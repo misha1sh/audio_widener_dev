{
 "cells": [
  {
   "cell_type": "code",
   "execution_count": null,
   "id": "promising-advice",
   "metadata": {},
   "outputs": [],
   "source": [
    "%cd -q D:\\data\\progr\\audio_widener\\pycharm_proj\n",
    "%load_ext autoreload\n",
    "!pip install jedi==0.17.2\n",
    "%autoreload 2\n",
    "from imports import *\n",
    "\n",
    "# sound1, sound2 = guitar_wd1, guitar_wd2\n",
    "sound1, sound2 = electro_sample, electro_sample\n",
    "# sound1 = sound2 = np.sin(np.linspace(0, 3000, sample_rate) * 20) + np.sin(np.linspace(0, 3000, sample_rate) * 8)\n",
    "\n",
    "# corellation, coherence"
   ]
  },
  {
   "cell_type": "code",
   "execution_count": null,
   "id": "overhead-notion",
   "metadata": {},
   "outputs": [],
   "source": [
    "import pywt\n",
    "\n",
    "dt = 1 / sample_rate\n",
    "f = pywt.scale2frequency('gaus1', [50, 100, 300, 500, 1000, 3000, 5000]) / dt\n",
    "coef, freqs=pywt.cwt(sound1,np.arange(1,1024),'gaus1')\n",
    "\n",
    "mwf = pywt.ContinuousWavelet('morl').wavefun()\n",
    "y_0 = mwf[0][np.argmin(np.abs(mwf[1]))]\n",
    "\n",
    "r_sum = np.transpose(np.sum(np.transpose(coef)/ freqs  ** 0.5, axis=-1))\n",
    "reconstructed = r_sum * (1 / y_0)"
   ]
  },
  {
   "cell_type": "code",
   "execution_count": null,
   "id": "solved-friendship",
   "metadata": {},
   "outputs": [],
   "source": [
    "f"
   ]
  },
  {
   "cell_type": "code",
   "execution_count": null,
   "id": "detailed-monster",
   "metadata": {},
   "outputs": [],
   "source": [
    "%matplotlib widget\n",
    "import pywt\n",
    "dt = 1 / sample_rate\n",
    "f = pywt.scale2frequency('gaus1', [50, 100, 300, 500, 1000, 3000, 5000]) / dt\n",
    "coef, freqs=pywt.cwt(sound1,np.arange(1,1024),'gaus1')\n",
    "\n",
    "plt.matshow(coef)\n",
    "plt.show() "
   ]
  },
  {
   "cell_type": "code",
   "execution_count": null,
   "id": "excess-repair",
   "metadata": {},
   "outputs": [],
   "source": [
    "from scipy.special import factorial\n",
    "import wavelets\n",
    "wa = wavelets.WaveletAnalysis(sound1, dt=1/sample_rate)"
   ]
  },
  {
   "cell_type": "code",
   "execution_count": null,
   "id": "gentle-defeat",
   "metadata": {},
   "outputs": [],
   "source": [
    "%matplotlib inline\n",
    "fig, ax = plt.subplots()\n",
    "t = wa.time\n",
    "scales = wa.scales\n",
    "power = wa.wavelet_power\n",
    "T, S = np.meshgrid(t, scales)\n",
    "\n",
    "ax.contourf(T, S, power, 100)\n",
    "ax.set_yscale('log')\n"
   ]
  },
  {
   "cell_type": "code",
   "execution_count": null,
   "id": "exposed-bangkok",
   "metadata": {},
   "outputs": [],
   "source": [
    "display(Audio([sound1, np.real(f)], rate=sample_rate, autoplay=False, normalize=True))"
   ]
  },
  {
   "cell_type": "code",
   "execution_count": null,
   "id": "municipal-liabilities",
   "metadata": {},
   "outputs": [],
   "source": [
    "display(Audio(sound1, rate=sample_rate, autoplay=False, normalize=True))"
   ]
  },
  {
   "cell_type": "code",
   "execution_count": null,
   "id": "rough-transparency",
   "metadata": {},
   "outputs": [],
   "source": [
    "plt.plot(np.real(f) - sound1)"
   ]
  },
  {
   "cell_type": "code",
   "execution_count": null,
   "id": "diagnostic-money",
   "metadata": {},
   "outputs": [],
   "source": [
    "D = librosa.stft(sound1)\n",
    "mag, phase = librosa.magphase(D)\n",
    "\n"
   ]
  },
  {
   "cell_type": "code",
   "execution_count": null,
   "id": "structural-pontiac",
   "metadata": {},
   "outputs": [],
   "source": [
    "np.min(phase)"
   ]
  },
  {
   "cell_type": "code",
   "execution_count": null,
   "id": "promotional-acting",
   "metadata": {},
   "outputs": [],
   "source": [
    "plt.plot(np.real(phase[0]))"
   ]
  }
 ],
 "metadata": {
  "kernelspec": {
   "display_name": "Python 3",
   "language": "python",
   "name": "python3"
  },
  "language_info": {
   "codemirror_mode": {
    "name": "ipython",
    "version": 3
   },
   "file_extension": ".py",
   "mimetype": "text/x-python",
   "name": "python",
   "nbconvert_exporter": "python",
   "pygments_lexer": "ipython3",
   "version": "3.8.6"
  }
 },
 "nbformat": 4,
 "nbformat_minor": 5
}
